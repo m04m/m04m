{
 "cells": [
  {
   "cell_type": "code",
   "execution_count": 1,
   "metadata": {},
   "outputs": [
    {
     "name": "stderr",
     "output_type": "stream",
     "text": [
      "/Users/m04m_br/anaconda3/lib/python3.7/site-packages/pandas/compat/_optional.py:138: UserWarning: Pandas requires version '2.7.0' or newer of 'numexpr' (version '2.6.9' currently installed).\n",
      "  warnings.warn(msg, UserWarning)\n",
      "In /Users/m04m_br/anaconda3/lib/python3.7/site-packages/matplotlib/mpl-data/stylelib/_classic_test.mplstyle: \n",
      "The text.latex.preview rcparam was deprecated in Matplotlib 3.3 and will be removed two minor releases later.\n",
      "In /Users/m04m_br/anaconda3/lib/python3.7/site-packages/matplotlib/mpl-data/stylelib/_classic_test.mplstyle: \n",
      "The mathtext.fallback_to_cm rcparam was deprecated in Matplotlib 3.3 and will be removed two minor releases later.\n",
      "In /Users/m04m_br/anaconda3/lib/python3.7/site-packages/matplotlib/mpl-data/stylelib/_classic_test.mplstyle: Support for setting the 'mathtext.fallback_to_cm' rcParam is deprecated since 3.3 and will be removed two minor releases later; use 'mathtext.fallback : 'cm' instead.\n",
      "In /Users/m04m_br/anaconda3/lib/python3.7/site-packages/matplotlib/mpl-data/stylelib/_classic_test.mplstyle: \n",
      "The validate_bool_maybe_none function was deprecated in Matplotlib 3.3 and will be removed two minor releases later.\n",
      "In /Users/m04m_br/anaconda3/lib/python3.7/site-packages/matplotlib/mpl-data/stylelib/_classic_test.mplstyle: \n",
      "The savefig.jpeg_quality rcparam was deprecated in Matplotlib 3.3 and will be removed two minor releases later.\n",
      "In /Users/m04m_br/anaconda3/lib/python3.7/site-packages/matplotlib/mpl-data/stylelib/_classic_test.mplstyle: \n",
      "The keymap.all_axes rcparam was deprecated in Matplotlib 3.3 and will be removed two minor releases later.\n",
      "In /Users/m04m_br/anaconda3/lib/python3.7/site-packages/matplotlib/mpl-data/stylelib/_classic_test.mplstyle: \n",
      "The animation.avconv_path rcparam was deprecated in Matplotlib 3.3 and will be removed two minor releases later.\n",
      "In /Users/m04m_br/anaconda3/lib/python3.7/site-packages/matplotlib/mpl-data/stylelib/_classic_test.mplstyle: \n",
      "The animation.avconv_args rcparam was deprecated in Matplotlib 3.3 and will be removed two minor releases later.\n"
     ]
    }
   ],
   "source": [
    "import pandas as pd\n",
    "import seaborn as sns\n",
    "import matplotlib.pyplot as plt\n",
    "from sklearn.decomposition import PCA\n",
    "from sklearn.cluster import KMeans"
   ]
  },
  {
   "cell_type": "code",
   "execution_count": 2,
   "metadata": {},
   "outputs": [
    {
     "data": {
      "text/html": [
       "<div>\n",
       "<style scoped>\n",
       "    .dataframe tbody tr th:only-of-type {\n",
       "        vertical-align: middle;\n",
       "    }\n",
       "\n",
       "    .dataframe tbody tr th {\n",
       "        vertical-align: top;\n",
       "    }\n",
       "\n",
       "    .dataframe thead th {\n",
       "        text-align: right;\n",
       "    }\n",
       "</style>\n",
       "<table border=\"1\" class=\"dataframe\">\n",
       "  <thead>\n",
       "    <tr style=\"text-align: right;\">\n",
       "      <th></th>\n",
       "      <th>Jan-22</th>\n",
       "      <th>Fev-22</th>\n",
       "      <th>Mar-22</th>\n",
       "      <th>Abr-22</th>\n",
       "      <th>Mai-22</th>\n",
       "      <th>Jun-22</th>\n",
       "      <th>Jul-22</th>\n",
       "    </tr>\n",
       "  </thead>\n",
       "  <tbody>\n",
       "    <tr>\n",
       "      <th>0</th>\n",
       "      <td>52.59</td>\n",
       "      <td>53.78</td>\n",
       "      <td>63.54</td>\n",
       "      <td>63.54</td>\n",
       "      <td>52.20</td>\n",
       "      <td>62.30</td>\n",
       "      <td>63.54</td>\n",
       "    </tr>\n",
       "    <tr>\n",
       "      <th>1</th>\n",
       "      <td>0.00</td>\n",
       "      <td>0.00</td>\n",
       "      <td>0.00</td>\n",
       "      <td>15.57</td>\n",
       "      <td>15.57</td>\n",
       "      <td>15.57</td>\n",
       "      <td>15.57</td>\n",
       "    </tr>\n",
       "    <tr>\n",
       "      <th>2</th>\n",
       "      <td>0.00</td>\n",
       "      <td>0.00</td>\n",
       "      <td>0.00</td>\n",
       "      <td>10.39</td>\n",
       "      <td>15.70</td>\n",
       "      <td>11.75</td>\n",
       "      <td>10.32</td>\n",
       "    </tr>\n",
       "    <tr>\n",
       "      <th>3</th>\n",
       "      <td>0.00</td>\n",
       "      <td>0.00</td>\n",
       "      <td>0.00</td>\n",
       "      <td>0.00</td>\n",
       "      <td>0.00</td>\n",
       "      <td>0.00</td>\n",
       "      <td>0.00</td>\n",
       "    </tr>\n",
       "    <tr>\n",
       "      <th>4</th>\n",
       "      <td>-18.83</td>\n",
       "      <td>-18.83</td>\n",
       "      <td>-18.83</td>\n",
       "      <td>-18.83</td>\n",
       "      <td>0.00</td>\n",
       "      <td>0.00</td>\n",
       "      <td>0.00</td>\n",
       "    </tr>\n",
       "  </tbody>\n",
       "</table>\n",
       "</div>"
      ],
      "text/plain": [
       "   Jan-22  Fev-22  Mar-22  Abr-22  Mai-22  Jun-22  Jul-22\n",
       "0   52.59   53.78   63.54   63.54   52.20   62.30   63.54\n",
       "1    0.00    0.00    0.00   15.57   15.57   15.57   15.57\n",
       "2    0.00    0.00    0.00   10.39   15.70   11.75   10.32\n",
       "3    0.00    0.00    0.00    0.00    0.00    0.00    0.00\n",
       "4  -18.83  -18.83  -18.83  -18.83    0.00    0.00    0.00"
      ]
     },
     "execution_count": 2,
     "metadata": {},
     "output_type": "execute_result"
    }
   ],
   "source": [
    "base = pd.read_csv('dados.csv')\n",
    "base.head(5)"
   ]
  },
  {
   "cell_type": "code",
   "execution_count": 3,
   "metadata": {},
   "outputs": [],
   "source": [
    "### Get all the features columns except the class\n",
    "features = list(base.columns)[:]"
   ]
  },
  {
   "cell_type": "code",
   "execution_count": 4,
   "metadata": {},
   "outputs": [
    {
     "data": {
      "text/plain": [
       "['Jan-22', 'Fev-22', 'Mar-22', 'Abr-22', 'Mai-22', 'Jun-22', 'Jul-22']"
      ]
     },
     "execution_count": 4,
     "metadata": {},
     "output_type": "execute_result"
    }
   ],
   "source": [
    "list(base.columns)[:]"
   ]
  },
  {
   "cell_type": "code",
   "execution_count": 25,
   "metadata": {},
   "outputs": [
    {
     "data": {
      "text/html": [
       "<div>\n",
       "<style scoped>\n",
       "    .dataframe tbody tr th:only-of-type {\n",
       "        vertical-align: middle;\n",
       "    }\n",
       "\n",
       "    .dataframe tbody tr th {\n",
       "        vertical-align: top;\n",
       "    }\n",
       "\n",
       "    .dataframe thead th {\n",
       "        text-align: right;\n",
       "    }\n",
       "</style>\n",
       "<table border=\"1\" class=\"dataframe\">\n",
       "  <thead>\n",
       "    <tr style=\"text-align: right;\">\n",
       "      <th></th>\n",
       "      <th>Jan-22</th>\n",
       "      <th>Fev-22</th>\n",
       "      <th>Mar-22</th>\n",
       "      <th>Abr-22</th>\n",
       "      <th>Mai-22</th>\n",
       "      <th>Jun-22</th>\n",
       "      <th>Jul-22</th>\n",
       "    </tr>\n",
       "  </thead>\n",
       "  <tbody>\n",
       "    <tr>\n",
       "      <th>0</th>\n",
       "      <td>52.59</td>\n",
       "      <td>53.78</td>\n",
       "      <td>63.54</td>\n",
       "      <td>63.54</td>\n",
       "      <td>52.20</td>\n",
       "      <td>62.30</td>\n",
       "      <td>63.54</td>\n",
       "    </tr>\n",
       "    <tr>\n",
       "      <th>1</th>\n",
       "      <td>0.00</td>\n",
       "      <td>0.00</td>\n",
       "      <td>0.00</td>\n",
       "      <td>15.57</td>\n",
       "      <td>15.57</td>\n",
       "      <td>15.57</td>\n",
       "      <td>15.57</td>\n",
       "    </tr>\n",
       "    <tr>\n",
       "      <th>2</th>\n",
       "      <td>0.00</td>\n",
       "      <td>0.00</td>\n",
       "      <td>0.00</td>\n",
       "      <td>10.39</td>\n",
       "      <td>15.70</td>\n",
       "      <td>11.75</td>\n",
       "      <td>10.32</td>\n",
       "    </tr>\n",
       "    <tr>\n",
       "      <th>3</th>\n",
       "      <td>0.00</td>\n",
       "      <td>0.00</td>\n",
       "      <td>0.00</td>\n",
       "      <td>0.00</td>\n",
       "      <td>0.00</td>\n",
       "      <td>0.00</td>\n",
       "      <td>0.00</td>\n",
       "    </tr>\n",
       "    <tr>\n",
       "      <th>4</th>\n",
       "      <td>-18.83</td>\n",
       "      <td>-18.83</td>\n",
       "      <td>-18.83</td>\n",
       "      <td>-18.83</td>\n",
       "      <td>0.00</td>\n",
       "      <td>0.00</td>\n",
       "      <td>0.00</td>\n",
       "    </tr>\n",
       "  </tbody>\n",
       "</table>\n",
       "</div>"
      ],
      "text/plain": [
       "   Jan-22  Fev-22  Mar-22  Abr-22  Mai-22  Jun-22  Jul-22\n",
       "0   52.59   53.78   63.54   63.54   52.20   62.30   63.54\n",
       "1    0.00    0.00    0.00   15.57   15.57   15.57   15.57\n",
       "2    0.00    0.00    0.00   10.39   15.70   11.75   10.32\n",
       "3    0.00    0.00    0.00    0.00    0.00    0.00    0.00\n",
       "4  -18.83  -18.83  -18.83  -18.83    0.00    0.00    0.00"
      ]
     },
     "execution_count": 25,
     "metadata": {},
     "output_type": "execute_result"
    }
   ],
   "source": [
    "### Get the features data\n",
    "data = base[features]\n",
    "data.head(5)"
   ]
  },
  {
   "cell_type": "code",
   "execution_count": 26,
   "metadata": {},
   "outputs": [],
   "source": [
    "clustering_kmeans = KMeans(n_clusters=5)\n",
    "data['clusters'] = clustering_kmeans.fit_predict(data)"
   ]
  },
  {
   "cell_type": "code",
   "execution_count": 27,
   "metadata": {},
   "outputs": [
    {
     "data": {
      "image/png": "[encoded data removed]",
      "text/plain": [
       "<Figure size 432x288 with 1 Axes>"
      ]
     },
     "metadata": {
      "needs_background": "light"
     },
     "output_type": "display_data"
    }
   ],
   "source": [
    "### Run PCA on the data and reduce the dimensions in pca_num_components dimensions\n",
    "\n",
    "pca_num_components = 2\n",
    "\n",
    "reduced_data = PCA(n_components=pca_num_components).fit_transform(data)\n",
    "results = pd.DataFrame(reduced_data,columns=['pca1','pca2'])\n",
    "\n",
    "sns.scatterplot(x=\"pca1\", y=\"pca2\", hue=data['clusters'], data=results)\n",
    "plt.title('K-means Clustering with 2 dimensions')\n",
    "plt.show()"
   ]
  },
  {
   "cell_type": "code",
   "execution_count": 28,
   "metadata": {},
   "outputs": [
    {
     "name": "stdout",
     "output_type": "stream",
     "text": [
      "    Jan-22  Fev-22  Mar-22  Abr-22  Mai-22  Jun-22  Jul-22  clusters\n",
      "0    52.59   53.78   63.54   63.54   52.20   62.30   63.54         0\n",
      "1     0.00    0.00    0.00   15.57   15.57   15.57   15.57         2\n",
      "2     0.00    0.00    0.00   10.39   15.70   11.75   10.32         2\n",
      "3     0.00    0.00    0.00    0.00    0.00    0.00    0.00         2\n",
      "4   -18.83  -18.83  -18.83  -18.83    0.00    0.00    0.00         2\n",
      "5     8.25  100.00    0.00    0.00    0.00    0.00    0.00         2\n",
      "6     0.00    0.00    0.00    0.00  100.00    0.00    0.00         2\n",
      "7     0.00    0.00    0.00    0.00    0.00   43.92   43.92         2\n",
      "8     0.00    0.00    0.00    0.00    0.00    0.00    0.00         2\n",
      "9    36.33   47.63   43.78   47.27   42.69   41.33   43.98         0\n",
      "10    0.00    0.00    0.00    0.00    0.00    0.00   34.25         2\n",
      "11    0.00    0.00    0.00    0.00    0.00    0.00    0.00         2\n",
      "12    0.00    4.55    4.55    4.55    4.55    0.00    0.00         2\n",
      "13    0.00    0.00    0.00   21.38   21.38   21.38   21.38         2\n",
      "14    0.00    0.00    0.00    0.00    0.00    0.00    0.00         2\n",
      "15    0.00    0.00    0.00    0.00    0.00    0.00    0.00         2\n",
      "16   20.44   20.44   20.44   20.44   20.44   20.44   20.44         2\n",
      "17  -59.86    0.00    0.00    0.00    0.00    0.00    0.00         2\n",
      "18    0.00    0.00    0.00    0.00    0.00    0.00    0.00         2\n",
      "19    0.00    0.00    0.00    0.00    0.00    0.00    0.00         2\n",
      "20   42.60   42.60 -282.67   42.60   68.28   42.60   42.60         3\n",
      "21   45.95   45.95   45.95   49.36   49.36   49.36   49.36         0\n",
      "22    0.00    0.00    0.00   37.74    0.00    0.00    0.00         2\n",
      "23    0.00    0.00   47.32   32.34   36.32   44.57   64.19         0\n",
      "24    0.00    0.00    0.00    0.00   37.74    0.00    0.00         2\n",
      "25    0.00    0.00    0.00    0.00   37.74    0.00    0.00         2\n",
      "26    0.00    0.00    0.00    0.00    0.00    0.00    0.00         2\n",
      "27   54.43   50.32   40.73   36.13   42.60   40.73    0.00         0\n",
      "28    0.00    0.00    0.00    0.00    0.00    0.00  100.00         2\n",
      "29   34.03   19.16    9.71   20.30   29.73    3.93   26.91         2\n",
      "30   27.18   27.18   28.84   23.08   37.11   27.18   27.18         0\n",
      "31   24.73   19.09    0.00    0.00    0.00    0.00    0.00         2\n",
      "32  100.00    0.00    0.00    0.00    0.00    0.00    0.00         2\n",
      "33    0.00    0.00    0.00    0.00    0.00    0.00    0.00         2\n",
      "34   42.74    0.00    0.00    0.00    0.00    0.00    0.00         2\n",
      "35   45.70   46.09   38.49   44.39   43.07   42.78   43.34         0\n",
      "36   29.81   37.37   39.37   46.12   47.25   35.23   34.51         0\n",
      "37    0.00    0.00    0.00    0.00    0.00    0.00    0.00         2\n",
      "38   31.67   31.67   29.82   31.49   31.77   29.69   31.25         0\n",
      "39    0.00    0.00    0.00    0.00    0.00    0.00    0.00         2\n",
      "40    0.00    0.00  100.00    0.00    0.00    0.00    0.00         4\n",
      "41    0.00    0.00    0.00    0.00    0.00    0.00    0.00         2\n",
      "42   11.82    0.00    0.00    0.00    0.00    0.00    0.00         2\n",
      "43  100.00    0.00    0.00    0.00    0.00    0.00    0.00         2\n",
      "44   17.61   17.61   17.61   17.61   17.61   17.61   17.61         2\n",
      "45 -372.81   21.20   21.20   21.20   21.20   21.20   21.20         1\n",
      "46   21.55   48.86    0.00    0.00    0.00    0.00    0.00         2\n",
      "47    0.00    0.00  100.00    0.00    0.00    0.00    0.00         4\n",
      "48   28.23    0.00    0.00    0.00    0.00    0.00    0.00         2\n",
      "49    0.00    0.00    0.00    0.00    0.00    0.00    0.00         2\n",
      "50   14.09   13.18   17.73    6.29    2.22    2.67    2.63         2\n",
      "51    0.00    0.00    0.00    0.00    0.00    0.00    0.00         2\n",
      "52   23.83    0.00  100.00    0.00    0.00    0.00    0.00         4\n",
      "53   33.60    0.00  100.00    0.00  100.00    0.00    0.00         4\n",
      "54    1.92   25.43  -21.03   -9.50  -10.10   -8.08   -5.54         2\n",
      "55    0.00    0.00    0.00    0.00    0.00    0.00    0.00         2\n",
      "56   14.85   14.85   14.85    0.00    0.00    0.00    0.00         2\n",
      "57  -41.29  -41.29  -41.29    0.00    0.00    0.00    0.00         2\n",
      "58  -31.09  100.00    0.00    0.00    0.00    0.00    0.00         2\n",
      "59    0.00  100.00    0.00    0.00    0.00    0.00    0.00         2\n",
      "60    3.60    3.60    3.60    0.00    0.00    0.00    0.00         2\n",
      "61   18.72    3.24    0.02    0.00    0.00    0.00    0.00         2\n",
      "62    0.00    0.00    0.00    0.00    0.00    0.00    0.00         2\n",
      "63    0.00    0.00    0.00    0.00    0.00    0.00    0.00         2\n",
      "64    7.64    7.64    7.64    7.64    7.64    7.64    7.64         2\n",
      "65    7.40    7.40    7.40    0.00    0.00    0.00    0.00         2\n",
      "66    5.97    5.97    5.97    0.00    0.00    0.00    0.00         2\n",
      "67    5.97    5.97    5.97    5.97    5.97    5.97    5.97         2\n",
      "68  100.00 -135.23  100.00    0.00    0.00    0.00    0.00         4\n"
     ]
    }
   ],
   "source": [
    "pd.set_option('display.max_rows',None)\n",
    "pd.set_option('display.max_columns',None)\n",
    "print(data)"
   ]
  },
  {
   "cell_type": "markdown",
   "metadata": {},
   "source": [
    "**Valores \"Normalizados\"**"
   ]
  },
  {
   "cell_type": "code",
   "execution_count": 29,
   "metadata": {},
   "outputs": [],
   "source": [
    "previsores = data.iloc[:,:].values\n",
    "from sklearn.preprocessing import StandardScaler\n",
    "scaler = StandardScaler()\n",
    "previsores = scaler.fit_transform(previsores)\n",
    "\n",
    "previsores_csv = pd.DataFrame(previsores, columns=['ID','Jan-22', 'Feb-22','Mar-22','Apr-22','May-22','Jun-22','Jul-22'])\n",
    "previsores_csv.to_csv('previsores.csv')"
   ]
  },
  {
   "cell_type": "code",
   "execution_count": 30,
   "metadata": {},
   "outputs": [],
   "source": [
    "base_scaled = pd.read_csv('previsores.csv')"
   ]
  },
  {
   "cell_type": "code",
   "execution_count": 31,
   "metadata": {},
   "outputs": [
    {
     "data": {
      "text/html": [
       "<div>\n",
       "<style scoped>\n",
       "    .dataframe tbody tr th:only-of-type {\n",
       "        vertical-align: middle;\n",
       "    }\n",
       "\n",
       "    .dataframe tbody tr th {\n",
       "        vertical-align: top;\n",
       "    }\n",
       "\n",
       "    .dataframe thead th {\n",
       "        text-align: right;\n",
       "    }\n",
       "</style>\n",
       "<table border=\"1\" class=\"dataframe\">\n",
       "  <thead>\n",
       "    <tr style=\"text-align: right;\">\n",
       "      <th></th>\n",
       "      <th>Unnamed: 0</th>\n",
       "      <th>ID</th>\n",
       "      <th>Jan-22</th>\n",
       "      <th>Feb-22</th>\n",
       "      <th>Mar-22</th>\n",
       "      <th>Apr-22</th>\n",
       "      <th>May-22</th>\n",
       "      <th>Jun-22</th>\n",
       "      <th>Jul-22</th>\n",
       "    </tr>\n",
       "  </thead>\n",
       "  <tbody>\n",
       "    <tr>\n",
       "      <th>0</th>\n",
       "      <td>0</td>\n",
       "      <td>0.853053</td>\n",
       "      <td>1.407868</td>\n",
       "      <td>1.180324</td>\n",
       "      <td>3.407683</td>\n",
       "      <td>1.724414</td>\n",
       "      <td>3.390952</td>\n",
       "      <td>2.658025</td>\n",
       "      <td>-2.071598</td>\n",
       "    </tr>\n",
       "    <tr>\n",
       "      <th>1</th>\n",
       "      <td>1</td>\n",
       "      <td>-0.132977</td>\n",
       "      <td>-0.342103</td>\n",
       "      <td>-0.205715</td>\n",
       "      <td>0.445080</td>\n",
       "      <td>0.124271</td>\n",
       "      <td>0.450944</td>\n",
       "      <td>0.255553</td>\n",
       "      <td>0.127483</td>\n",
       "    </tr>\n",
       "    <tr>\n",
       "      <th>2</th>\n",
       "      <td>2</td>\n",
       "      <td>-0.132977</td>\n",
       "      <td>-0.342103</td>\n",
       "      <td>-0.205715</td>\n",
       "      <td>0.125166</td>\n",
       "      <td>0.129950</td>\n",
       "      <td>0.210610</td>\n",
       "      <td>-0.007382</td>\n",
       "      <td>0.127483</td>\n",
       "    </tr>\n",
       "    <tr>\n",
       "      <th>3</th>\n",
       "      <td>3</td>\n",
       "      <td>-0.132977</td>\n",
       "      <td>-0.342103</td>\n",
       "      <td>-0.205715</td>\n",
       "      <td>-0.516515</td>\n",
       "      <td>-0.555888</td>\n",
       "      <td>-0.528639</td>\n",
       "      <td>-0.524236</td>\n",
       "      <td>0.127483</td>\n",
       "    </tr>\n",
       "    <tr>\n",
       "      <th>4</th>\n",
       "      <td>4</td>\n",
       "      <td>-0.486027</td>\n",
       "      <td>-0.954820</td>\n",
       "      <td>-0.616467</td>\n",
       "      <td>-1.679446</td>\n",
       "      <td>-0.555888</td>\n",
       "      <td>-0.528639</td>\n",
       "      <td>-0.524236</td>\n",
       "      <td>0.127483</td>\n",
       "    </tr>\n",
       "  </tbody>\n",
       "</table>\n",
       "</div>"
      ],
      "text/plain": [
       "   Unnamed: 0        ID    Jan-22    Feb-22    Mar-22    Apr-22    May-22  \\\n",
       "0           0  0.853053  1.407868  1.180324  3.407683  1.724414  3.390952   \n",
       "1           1 -0.132977 -0.342103 -0.205715  0.445080  0.124271  0.450944   \n",
       "2           2 -0.132977 -0.342103 -0.205715  0.125166  0.129950  0.210610   \n",
       "3           3 -0.132977 -0.342103 -0.205715 -0.516515 -0.555888 -0.528639   \n",
       "4           4 -0.486027 -0.954820 -0.616467 -1.679446 -0.555888 -0.528639   \n",
       "\n",
       "     Jun-22    Jul-22  \n",
       "0  2.658025 -2.071598  \n",
       "1  0.255553  0.127483  \n",
       "2 -0.007382  0.127483  \n",
       "3 -0.524236  0.127483  \n",
       "4 -0.524236  0.127483  "
      ]
     },
     "execution_count": 31,
     "metadata": {},
     "output_type": "execute_result"
    }
   ],
   "source": [
    "base_scaled.head(5)"
   ]
  },
  {
   "cell_type": "code",
   "execution_count": 32,
   "metadata": {},
   "outputs": [
    {
     "data": {
      "text/plain": [
       "['Jan-22', 'Feb-22', 'Mar-22', 'Apr-22', 'May-22', 'Jun-22', 'Jul-22']"
      ]
     },
     "execution_count": 32,
     "metadata": {},
     "output_type": "execute_result"
    }
   ],
   "source": [
    "list(base_scaled.columns)[2:9]"
   ]
  },
  {
   "cell_type": "code",
   "execution_count": 33,
   "metadata": {},
   "outputs": [],
   "source": [
    "features_scaled = list(base.columns)[2:6]"
   ]
  },
  {
   "cell_type": "code",
   "execution_count": 34,
   "metadata": {},
   "outputs": [],
   "source": [
    "data = base[features_scaled]"
   ]
  },
  {
   "cell_type": "code",
   "execution_count": 35,
   "metadata": {},
   "outputs": [
    {
     "name": "stderr",
     "output_type": "stream",
     "text": [
      "/Users/m04m_br/anaconda3/lib/python3.7/site-packages/ipykernel_launcher.py:3: SettingWithCopyWarning: \n",
      "A value is trying to be set on a copy of a slice from a DataFrame.\n",
      "Try using .loc[row_indexer,col_indexer] = value instead\n",
      "\n",
      "See the caveats in the documentation: https://pandas.pydata.org/pandas-docs/stable/user_guide/indexing.html#returning-a-view-versus-a-copy\n",
      "  This is separate from the ipykernel package so we can avoid doing imports until\n"
     ]
    }
   ],
   "source": [
    "#, precompute_distances=\"auto\", n_jobs=-1\n",
    "clustering_kmeans = KMeans(n_clusters=5)\n",
    "data['clusters'] = clustering_kmeans.fit_predict(data)"
   ]
  },
  {
   "cell_type": "code",
   "execution_count": 36,
   "metadata": {},
   "outputs": [
    {
     "data": {
      "image/png": "[encoded data removed]",
      "text/plain": [
       "<Figure size 432x288 with 1 Axes>"
      ]
     },
     "metadata": {
      "needs_background": "light"
     },
     "output_type": "display_data"
    }
   ],
   "source": [
    "### Run PCA on the data and reduce the dimensions in pca_num_components dimensions\n",
    "\n",
    "pca_num_components = 2\n",
    "\n",
    "reduced_data = PCA(n_components=pca_num_components).fit_transform(data)\n",
    "results = pd.DataFrame(reduced_data,columns=['pca1','pca2'])\n",
    "\n",
    "sns.scatterplot(x=\"pca1\", y=\"pca2\", hue=data['clusters'], data=results)\n",
    "plt.title('K-means Clustering with 2 dimensions')\n",
    "plt.show()"
   ]
  }
 ],
 "metadata": {
  "kernelspec": {
   "display_name": "Python 3",
   "language": "python",
   "name": "python3"
  },
  "language_info": {
   "codemirror_mode": {
    "name": "ipython",
    "version": 3
   },
   "file_extension": ".py",
   "mimetype": "text/x-python",
   "name": "python",
   "nbconvert_exporter": "python",
   "pygments_lexer": "ipython3",
   "version": "3.7.3"
  }
 },
 "nbformat": 4,
 "nbformat_minor": 2
}
