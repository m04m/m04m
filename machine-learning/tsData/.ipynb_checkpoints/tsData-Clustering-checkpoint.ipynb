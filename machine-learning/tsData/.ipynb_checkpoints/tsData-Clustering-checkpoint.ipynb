{
 "cells": [
  {
   "cell_type": "code",
   "execution_count": 1,
   "metadata": {},
   "outputs": [],
   "source": [
    "import pandas as pd\n",
    "import seaborn as sns\n",
    "import matplotlib.pyplot as plt\n",
    "from sklearn.decomposition import PCA\n",
    "from sklearn.cluster import KMeans"
   ]
  },
  {
   "cell_type": "code",
   "execution_count": 2,
   "metadata": {},
   "outputs": [
    {
     "data": {
      "text/html": [
       "<div>\n",
       "<style scoped>\n",
       "    .dataframe tbody tr th:only-of-type {\n",
       "        vertical-align: middle;\n",
       "    }\n",
       "\n",
       "    .dataframe tbody tr th {\n",
       "        vertical-align: top;\n",
       "    }\n",
       "\n",
       "    .dataframe thead th {\n",
       "        text-align: right;\n",
       "    }\n",
       "</style>\n",
       "<table border=\"1\" class=\"dataframe\">\n",
       "  <thead>\n",
       "    <tr style=\"text-align: right;\">\n",
       "      <th></th>\n",
       "      <th>Jan-22</th>\n",
       "      <th>Feb-22</th>\n",
       "      <th>Mar-22</th>\n",
       "      <th>Apr-22</th>\n",
       "    </tr>\n",
       "  </thead>\n",
       "  <tbody>\n",
       "    <tr>\n",
       "      <th>0</th>\n",
       "      <td>52.59</td>\n",
       "      <td>53.78</td>\n",
       "      <td>63.54</td>\n",
       "      <td>63.54</td>\n",
       "    </tr>\n",
       "    <tr>\n",
       "      <th>1</th>\n",
       "      <td>0.00</td>\n",
       "      <td>0.00</td>\n",
       "      <td>0.00</td>\n",
       "      <td>0.00</td>\n",
       "    </tr>\n",
       "    <tr>\n",
       "      <th>2</th>\n",
       "      <td>-18.83</td>\n",
       "      <td>-18.83</td>\n",
       "      <td>-18.83</td>\n",
       "      <td>-18.83</td>\n",
       "    </tr>\n",
       "    <tr>\n",
       "      <th>3</th>\n",
       "      <td>8.25</td>\n",
       "      <td>100.00</td>\n",
       "      <td>0.00</td>\n",
       "      <td>0.00</td>\n",
       "    </tr>\n",
       "    <tr>\n",
       "      <th>4</th>\n",
       "      <td>0.00</td>\n",
       "      <td>0.00</td>\n",
       "      <td>0.00</td>\n",
       "      <td>0.00</td>\n",
       "    </tr>\n",
       "  </tbody>\n",
       "</table>\n",
       "</div>"
      ],
      "text/plain": [
       "   Jan-22  Feb-22  Mar-22  Apr-22\n",
       "0   52.59   53.78   63.54   63.54\n",
       "1    0.00    0.00    0.00    0.00\n",
       "2  -18.83  -18.83  -18.83  -18.83\n",
       "3    8.25  100.00    0.00    0.00\n",
       "4    0.00    0.00    0.00    0.00"
      ]
     },
     "execution_count": 2,
     "metadata": {},
     "output_type": "execute_result"
    }
   ],
   "source": [
    "base = pd.read_csv('dados.csv')\n",
    "base.head(5)"
   ]
  },
  {
   "cell_type": "code",
   "execution_count": 3,
   "metadata": {},
   "outputs": [],
   "source": [
    "### Get all the features columns except the class\n",
    "features = list(base.columns)[:]"
   ]
  },
  {
   "cell_type": "code",
   "execution_count": 4,
   "metadata": {},
   "outputs": [
    {
     "data": {
      "text/plain": [
       "['Jan-22', 'Feb-22', 'Mar-22', 'Apr-22']"
      ]
     },
     "execution_count": 4,
     "metadata": {},
     "output_type": "execute_result"
    }
   ],
   "source": [
    "list(base.columns)[:]"
   ]
  },
  {
   "cell_type": "code",
   "execution_count": 5,
   "metadata": {},
   "outputs": [],
   "source": [
    "### Get the features data\n",
    "data = base[features]"
   ]
  },
  {
   "cell_type": "code",
   "execution_count": 9,
   "metadata": {},
   "outputs": [],
   "source": [
    "clustering_kmeans = KMeans(n_clusters=5)\n",
    "data['clusters'] = clustering_kmeans.fit_predict(data)"
   ]
  },
  {
   "cell_type": "code",
   "execution_count": 10,
   "metadata": {},
   "outputs": [
    {
     "data": {
      "image/png": "[encoded data removed]",
      "text/plain": [
       "<Figure size 432x288 with 1 Axes>"
      ]
     },
     "metadata": {
      "needs_background": "light"
     },
     "output_type": "display_data"
    }
   ],
   "source": [
    "### Run PCA on the data and reduce the dimensions in pca_num_components dimensions\n",
    "\n",
    "pca_num_components = 2\n",
    "\n",
    "reduced_data = PCA(n_components=pca_num_components).fit_transform(data)\n",
    "results = pd.DataFrame(reduced_data,columns=['pca1','pca2'])\n",
    "\n",
    "sns.scatterplot(x=\"pca1\", y=\"pca2\", hue=data['clusters'], data=results)\n",
    "plt.title('K-means Clustering with 2 dimensions')\n",
    "plt.show()"
   ]
  },
  {
   "cell_type": "code",
   "execution_count": 11,
   "metadata": {},
   "outputs": [
    {
     "data": {
      "text/html": [
       "<div>\n",
       "<style scoped>\n",
       "    .dataframe tbody tr th:only-of-type {\n",
       "        vertical-align: middle;\n",
       "    }\n",
       "\n",
       "    .dataframe tbody tr th {\n",
       "        vertical-align: top;\n",
       "    }\n",
       "\n",
       "    .dataframe thead th {\n",
       "        text-align: right;\n",
       "    }\n",
       "</style>\n",
       "<table border=\"1\" class=\"dataframe\">\n",
       "  <thead>\n",
       "    <tr style=\"text-align: right;\">\n",
       "      <th></th>\n",
       "      <th>Jan-22</th>\n",
       "      <th>Feb-22</th>\n",
       "      <th>Mar-22</th>\n",
       "      <th>Apr-22</th>\n",
       "      <th>clusters</th>\n",
       "    </tr>\n",
       "  </thead>\n",
       "  <tbody>\n",
       "    <tr>\n",
       "      <th>0</th>\n",
       "      <td>52.59</td>\n",
       "      <td>53.78</td>\n",
       "      <td>63.54</td>\n",
       "      <td>63.54</td>\n",
       "      <td>0</td>\n",
       "    </tr>\n",
       "    <tr>\n",
       "      <th>1</th>\n",
       "      <td>0.00</td>\n",
       "      <td>0.00</td>\n",
       "      <td>0.00</td>\n",
       "      <td>0.00</td>\n",
       "      <td>4</td>\n",
       "    </tr>\n",
       "    <tr>\n",
       "      <th>2</th>\n",
       "      <td>-18.83</td>\n",
       "      <td>-18.83</td>\n",
       "      <td>-18.83</td>\n",
       "      <td>-18.83</td>\n",
       "      <td>4</td>\n",
       "    </tr>\n",
       "    <tr>\n",
       "      <th>3</th>\n",
       "      <td>8.25</td>\n",
       "      <td>100.00</td>\n",
       "      <td>0.00</td>\n",
       "      <td>0.00</td>\n",
       "      <td>0</td>\n",
       "    </tr>\n",
       "    <tr>\n",
       "      <th>4</th>\n",
       "      <td>0.00</td>\n",
       "      <td>0.00</td>\n",
       "      <td>0.00</td>\n",
       "      <td>0.00</td>\n",
       "      <td>4</td>\n",
       "    </tr>\n",
       "    <tr>\n",
       "      <th>...</th>\n",
       "      <td>...</td>\n",
       "      <td>...</td>\n",
       "      <td>...</td>\n",
       "      <td>...</td>\n",
       "      <td>...</td>\n",
       "    </tr>\n",
       "    <tr>\n",
       "      <th>61</th>\n",
       "      <td>5.97</td>\n",
       "      <td>5.97</td>\n",
       "      <td>5.97</td>\n",
       "      <td>0.00</td>\n",
       "      <td>4</td>\n",
       "    </tr>\n",
       "    <tr>\n",
       "      <th>62</th>\n",
       "      <td>5.97</td>\n",
       "      <td>5.97</td>\n",
       "      <td>5.97</td>\n",
       "      <td>5.97</td>\n",
       "      <td>4</td>\n",
       "    </tr>\n",
       "    <tr>\n",
       "      <th>63</th>\n",
       "      <td>100.00</td>\n",
       "      <td>-135.23</td>\n",
       "      <td>100.00</td>\n",
       "      <td>0.00</td>\n",
       "      <td>3</td>\n",
       "    </tr>\n",
       "    <tr>\n",
       "      <th>64</th>\n",
       "      <td>0.00</td>\n",
       "      <td>-10.31</td>\n",
       "      <td>0.00</td>\n",
       "      <td>0.00</td>\n",
       "      <td>4</td>\n",
       "    </tr>\n",
       "    <tr>\n",
       "      <th>65</th>\n",
       "      <td>0.00</td>\n",
       "      <td>0.00</td>\n",
       "      <td>0.00</td>\n",
       "      <td>0.00</td>\n",
       "      <td>4</td>\n",
       "    </tr>\n",
       "  </tbody>\n",
       "</table>\n",
       "<p>66 rows × 5 columns</p>\n",
       "</div>"
      ],
      "text/plain": [
       "    Jan-22  Feb-22  Mar-22  Apr-22  clusters\n",
       "0    52.59   53.78   63.54   63.54         0\n",
       "1     0.00    0.00    0.00    0.00         4\n",
       "2   -18.83  -18.83  -18.83  -18.83         4\n",
       "3     8.25  100.00    0.00    0.00         0\n",
       "4     0.00    0.00    0.00    0.00         4\n",
       "..     ...     ...     ...     ...       ...\n",
       "61    5.97    5.97    5.97    0.00         4\n",
       "62    5.97    5.97    5.97    5.97         4\n",
       "63  100.00 -135.23  100.00    0.00         3\n",
       "64    0.00  -10.31    0.00    0.00         4\n",
       "65    0.00    0.00    0.00    0.00         4\n",
       "\n",
       "[66 rows x 5 columns]"
      ]
     },
     "execution_count": 11,
     "metadata": {},
     "output_type": "execute_result"
    }
   ],
   "source": [
    "data.head(70)"
   ]
  },
  {
   "cell_type": "markdown",
   "metadata": {},
   "source": [
    "**Valores \"Normalizados\"**"
   ]
  },
  {
   "cell_type": "code",
   "execution_count": 12,
   "metadata": {},
   "outputs": [],
   "source": [
    "previsores = data.iloc[:,:].values\n",
    "from sklearn.preprocessing import StandardScaler\n",
    "scaler = StandardScaler()\n",
    "previsores = scaler.fit_transform(previsores)\n",
    "\n",
    "previsores_csv = pd.DataFrame(previsores, columns=['ID','Jan-22', 'Feb-22','Apr-22','Mar-22'])\n",
    "previsores_csv.to_csv('previsores.csv')"
   ]
  },
  {
   "cell_type": "code",
   "execution_count": 13,
   "metadata": {},
   "outputs": [],
   "source": [
    "base_scaled = pd.read_csv('previsores.csv')"
   ]
  },
  {
   "cell_type": "code",
   "execution_count": 14,
   "metadata": {},
   "outputs": [
    {
     "data": {
      "text/html": [
       "<div>\n",
       "<style scoped>\n",
       "    .dataframe tbody tr th:only-of-type {\n",
       "        vertical-align: middle;\n",
       "    }\n",
       "\n",
       "    .dataframe tbody tr th {\n",
       "        vertical-align: top;\n",
       "    }\n",
       "\n",
       "    .dataframe thead th {\n",
       "        text-align: right;\n",
       "    }\n",
       "</style>\n",
       "<table border=\"1\" class=\"dataframe\">\n",
       "  <thead>\n",
       "    <tr style=\"text-align: right;\">\n",
       "      <th></th>\n",
       "      <th>Unnamed: 0</th>\n",
       "      <th>ID</th>\n",
       "      <th>Jan-22</th>\n",
       "      <th>Feb-22</th>\n",
       "      <th>Apr-22</th>\n",
       "      <th>Mar-22</th>\n",
       "    </tr>\n",
       "  </thead>\n",
       "  <tbody>\n",
       "    <tr>\n",
       "      <th>0</th>\n",
       "      <td>0</td>\n",
       "      <td>0.794189</td>\n",
       "      <td>1.362765</td>\n",
       "      <td>1.140790</td>\n",
       "      <td>3.374400</td>\n",
       "      <td>-1.692117</td>\n",
       "    </tr>\n",
       "    <tr>\n",
       "      <th>1</th>\n",
       "      <td>1</td>\n",
       "      <td>-0.153201</td>\n",
       "      <td>-0.350510</td>\n",
       "      <td>-0.216283</td>\n",
       "      <td>-0.495498</td>\n",
       "      <td>0.659035</td>\n",
       "    </tr>\n",
       "    <tr>\n",
       "      <th>2</th>\n",
       "      <td>2</td>\n",
       "      <td>-0.492416</td>\n",
       "      <td>-0.950379</td>\n",
       "      <td>-0.618450</td>\n",
       "      <td>-1.642338</td>\n",
       "      <td>0.659035</td>\n",
       "    </tr>\n",
       "    <tr>\n",
       "      <th>3</th>\n",
       "      <td>3</td>\n",
       "      <td>-0.004580</td>\n",
       "      <td>2.835200</td>\n",
       "      <td>-0.216283</td>\n",
       "      <td>-0.495498</td>\n",
       "      <td>-1.692117</td>\n",
       "    </tr>\n",
       "    <tr>\n",
       "      <th>4</th>\n",
       "      <td>4</td>\n",
       "      <td>-0.153201</td>\n",
       "      <td>-0.350510</td>\n",
       "      <td>-0.216283</td>\n",
       "      <td>-0.495498</td>\n",
       "      <td>0.659035</td>\n",
       "    </tr>\n",
       "  </tbody>\n",
       "</table>\n",
       "</div>"
      ],
      "text/plain": [
       "   Unnamed: 0        ID    Jan-22    Feb-22    Apr-22    Mar-22\n",
       "0           0  0.794189  1.362765  1.140790  3.374400 -1.692117\n",
       "1           1 -0.153201 -0.350510 -0.216283 -0.495498  0.659035\n",
       "2           2 -0.492416 -0.950379 -0.618450 -1.642338  0.659035\n",
       "3           3 -0.004580  2.835200 -0.216283 -0.495498 -1.692117\n",
       "4           4 -0.153201 -0.350510 -0.216283 -0.495498  0.659035"
      ]
     },
     "execution_count": 14,
     "metadata": {},
     "output_type": "execute_result"
    }
   ],
   "source": [
    "base_scaled.head(5)"
   ]
  },
  {
   "cell_type": "code",
   "execution_count": 15,
   "metadata": {},
   "outputs": [
    {
     "data": {
      "text/plain": [
       "['Jan-22', 'Feb-22', 'Apr-22', 'Mar-22']"
      ]
     },
     "execution_count": 15,
     "metadata": {},
     "output_type": "execute_result"
    }
   ],
   "source": [
    "list(base_scaled.columns)[2:6]"
   ]
  },
  {
   "cell_type": "code",
   "execution_count": 16,
   "metadata": {},
   "outputs": [],
   "source": [
    "features_scaled = list(base.columns)[2:6]"
   ]
  },
  {
   "cell_type": "code",
   "execution_count": 17,
   "metadata": {},
   "outputs": [],
   "source": [
    "data = base[features_scaled]"
   ]
  },
  {
   "cell_type": "code",
   "execution_count": 19,
   "metadata": {},
   "outputs": [
    {
     "name": "stderr",
     "output_type": "stream",
     "text": [
      "/var/folders/yt/740_nkw14z543nqdx6qbwyz40000gn/T/ipykernel_16917/4220149517.py:3: SettingWithCopyWarning: \n",
      "A value is trying to be set on a copy of a slice from a DataFrame.\n",
      "Try using .loc[row_indexer,col_indexer] = value instead\n",
      "\n",
      "See the caveats in the documentation: https://pandas.pydata.org/pandas-docs/stable/user_guide/indexing.html#returning-a-view-versus-a-copy\n",
      "  data['clusters'] = clustering_kmeans.fit_predict(data)\n"
     ]
    }
   ],
   "source": [
    "#, precompute_distances=\"auto\", n_jobs=-1\n",
    "clustering_kmeans = KMeans(n_clusters=4)\n",
    "data['clusters'] = clustering_kmeans.fit_predict(data)"
   ]
  },
  {
   "cell_type": "code",
   "execution_count": 20,
   "metadata": {},
   "outputs": [
    {
     "data": {
      "image/png": "[encoded data removed]",
      "text/plain": [
       "<Figure size 432x288 with 1 Axes>"
      ]
     },
     "metadata": {
      "needs_background": "light"
     },
     "output_type": "display_data"
    }
   ],
   "source": [
    "### Run PCA on the data and reduce the dimensions in pca_num_components dimensions\n",
    "\n",
    "pca_num_components = 2\n",
    "\n",
    "reduced_data = PCA(n_components=pca_num_components).fit_transform(data)\n",
    "results = pd.DataFrame(reduced_data,columns=['pca1','pca2'])\n",
    "\n",
    "sns.scatterplot(x=\"pca1\", y=\"pca2\", hue=data['clusters'], data=results)\n",
    "plt.title('K-means Clustering with 2 dimensions')\n",
    "plt.show()"
   ]
  },
  {
   "cell_type": "code",
   "execution_count": null,
   "metadata": {},
   "outputs": [],
   "source": []
  }
 ],
 "metadata": {
  "kernelspec": {
   "display_name": "Python 3 (ipykernel)",
   "language": "python",
   "name": "python3"
  },
  "language_info": {
   "codemirror_mode": {
    "name": "ipython",
    "version": 3
   },
   "file_extension": ".py",
   "mimetype": "text/x-python",
   "name": "python",
   "nbconvert_exporter": "python",
   "pygments_lexer": "ipython3",
   "version": "3.9.12"
  }
 },
 "nbformat": 4,
 "nbformat_minor": 2
}
