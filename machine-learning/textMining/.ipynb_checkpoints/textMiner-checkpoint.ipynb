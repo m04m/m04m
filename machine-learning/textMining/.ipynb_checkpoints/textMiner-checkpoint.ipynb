{
 "cells": [
  {
   "cell_type": "code",
   "execution_count": 1,
   "metadata": {},
   "outputs": [],
   "source": [
    "import requests\n",
    "from bs4 import BeautifulSoup\n",
    "from collections import Counter\n",
    "from string import punctuation"
   ]
  },
  {
   "cell_type": "code",
   "execution_count": 2,
   "metadata": {},
   "outputs": [],
   "source": [
    "r = requests.get(\"https://timestampgroup.com/\")\n",
    "soup = BeautifulSoup(r.content)"
   ]
  },
  {
   "cell_type": "code",
   "execution_count": 3,
   "metadata": {},
   "outputs": [],
   "source": [
    "text_p = (''.join(s.findAll(text=True))for s in soup.findAll('p'))\n",
    "c_p = Counter((x.rstrip(punctuation).lower() for y in text_p for x in y.split()))"
   ]
  },
  {
   "cell_type": "code",
   "execution_count": 4,
   "metadata": {},
   "outputs": [],
   "source": [
    "text_div = (''.join(s.findAll(text=True))for s in soup.findAll('div'))\n",
    "c_div = Counter((x.rstrip(punctuation).lower() for y in text_div for x in y.split()))"
   ]
  },
  {
   "cell_type": "code",
   "execution_count": 5,
   "metadata": {},
   "outputs": [],
   "source": [
    "total = c_div + c_p\n",
    "list_most_common_words = total.most_common() "
   ]
  },
  {
   "cell_type": "code",
   "execution_count": 7,
   "metadata": {},
   "outputs": [
    {
     "data": {
      "text/plain": [
       "[('', 540),\n",
       " ('de', 479),\n",
       " ('e', 367),\n",
       " ('timestamp', 218),\n",
       " ('–', 214),\n",
       " ('a', 180),\n",
       " ('mais', 165),\n",
       " ('o', 161),\n",
       " ('ver', 131),\n",
       " ('management', 130),\n",
       " ('and', 127),\n",
       " ('business', 126),\n",
       " ('em', 121),\n",
       " ('oracle', 102),\n",
       " ('analytics', 92),\n",
       " ('no', 91),\n",
       " ('grupo', 79),\n",
       " ('com', 78),\n",
       " ('dos', 77),\n",
       " ('das', 74),\n",
       " ('na', 73),\n",
       " ('ibm', 71),\n",
       " ('produtos', 70),\n",
       " ('solutions', 68),\n",
       " ('um', 65),\n",
       " ('data', 63),\n",
       " ('cloud', 63),\n",
       " ('para', 63),\n",
       " ('maiores', 62),\n",
       " ('gestão', 56),\n",
       " ('madrid', 56),\n",
       " ('security', 54),\n",
       " ('governance', 54),\n",
       " ('protection', 51),\n",
       " ('desenvolvimento', 49),\n",
       " ('saiba', 48),\n",
       " ('sistemas', 48),\n",
       " ('know', 48),\n",
       " ('it', 48),\n",
       " ('do', 46),\n",
       " ('empresas', 46),\n",
       " ('trabalhamos', 46),\n",
       " ('in', 45),\n",
       " ('serviços', 45),\n",
       " ('nacionais', 45),\n",
       " ('por', 45),\n",
       " ('.info', 45),\n",
       " ('nível', 44),\n",
       " ('qualidade', 44),\n",
       " ('da', 43),\n",
       " ('nº', 43),\n",
       " ('none;line-height', 42),\n",
       " ('1.5;font-weight', 42),\n",
       " ('normal;text-decoration', 42),\n",
       " ('none;text-align', 42),\n",
       " ('center;letter-spacing', 42),\n",
       " ('normal;word-spacing', 42),\n",
       " ('normal;text-transform', 42),\n",
       " ('group', 41),\n",
       " ('as', 41),\n",
       " ('planeamento', 40),\n",
       " ('controlo', 40),\n",
       " ('tecnologia', 39),\n",
       " ('aplicações', 39),\n",
       " ('negócio', 38),\n",
       " ('intelligence', 38),\n",
       " ('erp', 36),\n",
       " ('.n2-ss-button-container', 36),\n",
       " (\"'montserrat';color\", 36),\n",
       " ('none;font-weight', 36),\n",
       " ('20px', 36),\n",
       " ('dados', 36),\n",
       " ('quem', 34),\n",
       " ('transformation', 34),\n",
       " ('bases', 34),\n",
       " ('bancária', 34),\n",
       " ('(brevemente', 34),\n",
       " ('of', 33),\n",
       " ('software', 33),\n",
       " ('rendibilidade', 33),\n",
       " ('bancário', 33),\n",
       " ('revenda', 33),\n",
       " ('email', 33),\n",
       " ('infrastructure', 32),\n",
       " ('center', 32),\n",
       " ('seu', 32),\n",
       " ('your', 32),\n",
       " ('the', 32),\n",
       " ('services', 32),\n",
       " ('aos', 31),\n",
       " ('nos', 31),\n",
       " ('15', 31),\n",
       " ('portugal', 31),\n",
       " ('notícias', 30),\n",
       " ('more', 30),\n",
       " ('que', 30),\n",
       " ('sua', 30),\n",
       " ('nosso', 30),\n",
       " ('cada', 30),\n",
       " ('nossa', 30)]"
      ]
     },
     "execution_count": 7,
     "metadata": {},
     "output_type": "execute_result"
    }
   ],
   "source": [
    "total.most_common(100)"
   ]
  }
 ],
 "metadata": {
  "kernelspec": {
   "display_name": "Python 3",
   "language": "python",
   "name": "python3"
  },
  "language_info": {
   "codemirror_mode": {
    "name": "ipython",
    "version": 3
   },
   "file_extension": ".py",
   "mimetype": "text/x-python",
   "name": "python",
   "nbconvert_exporter": "python",
   "pygments_lexer": "ipython3",
   "version": "3.7.3"
  }
 },
 "nbformat": 4,
 "nbformat_minor": 2
}
