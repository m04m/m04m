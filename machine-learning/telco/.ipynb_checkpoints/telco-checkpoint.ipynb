{
 "cells": [
  {
   "cell_type": "code",
   "execution_count": 1,
   "id": "cef729df",
   "metadata": {},
   "outputs": [
    {
     "name": "stdout",
     "output_type": "stream",
     "text": [
      "Collecting bandicoot\n",
      "  Downloading bandicoot-0.6.0.tar.gz (492 kB)\n",
      "\u001b[K     |████████████████████████████████| 492 kB 11.0 MB/s eta 0:00:01\n",
      "\u001b[?25hBuilding wheels for collected packages: bandicoot\n",
      "  Building wheel for bandicoot (setup.py) ... \u001b[?25ldone\n",
      "\u001b[?25h  Created wheel for bandicoot: filename=bandicoot-0.6.0-py3-none-any.whl size=525123 sha256=dbfdd6fd58e786a4df3379402fb85c25ed5cb9cbe55679efac02d382a78dd6f7\n",
      "  Stored in directory: /Users/m04m/Library/Caches/pip/wheels/5b/7f/20/28184403ae4d3969665146158822e0b12e459d56c022308f62\n",
      "Successfully built bandicoot\n",
      "Installing collected packages: bandicoot\n",
      "Successfully installed bandicoot-0.6.0\n"
     ]
    }
   ],
   "source": [
    "import sys\n",
    "!{sys.executable} -m pip install bandicoot"
   ]
  },
  {
   "cell_type": "code",
   "execution_count": 5,
   "id": "94ef671c",
   "metadata": {},
   "outputs": [
    {
     "name": "stdout",
     "output_type": "stream",
     "text": [
      "\u001b[32m[x]\u001b[0m 314 records from 2014-03-02 07:13:30 to 2014-04-14 12:04:37\n",
      "\u001b[32m[x]\u001b[0m 7 contacts\n",
      "\u001b[32m[ ]\u001b[0m No attribute stored\n",
      "\u001b[32m[ ]\u001b[0m No antenna stored\n",
      "\u001b[32m[ ]\u001b[0m No recharges\n",
      "\u001b[32m[x]\u001b[0m Has home\n",
      "\u001b[32m[x]\u001b[0m Has texts\n",
      "\u001b[32m[x]\u001b[0m Has calls\n",
      "\u001b[32m[ ]\u001b[0m No network\n"
     ]
    },
    {
     "name": "stderr",
     "output_type": "stream",
     "text": [
      "\u001b[33mWarning: 100.00% of the records are missing a location.\n",
      "         No antennas file was given and records are using antennas for position.\n",
      "\u001b[0m\u001b[33mWarning: 10 antenna(s) are missing a location.\n",
      "\u001b[0m"
     ]
    }
   ],
   "source": [
    "import bandicoot as bc\n",
    "\n",
    "U = bc.read_csv('ego', 'data/', 'data/antennas.csv')"
   ]
  },
  {
   "cell_type": "code",
   "execution_count": 24,
   "id": "dd5ee924",
   "metadata": {},
   "outputs": [
    {
     "name": "stdout",
     "output_type": "stream",
     "text": [
      "Successfully exported the visualization to /Users/m04m/Documents/GitHub/m04m/machine-learning/Untitled Folder/viz\n"
     ]
    },
    {
     "data": {
      "text/plain": [
       "'/Users/m04m/Documents/GitHub/m04m/machine-learning/Untitled Folder/viz'"
      ]
     },
     "execution_count": 24,
     "metadata": {},
     "output_type": "execute_result"
    }
   ],
   "source": [
    "import os\n",
    "viz_path = os.path.dirname(os.path.realpath(__name__)) + '/viz'\n",
    "\n",
    "bc.visualization.export(U, viz_path)"
   ]
  },
  {
   "cell_type": "code",
   "execution_count": 26,
   "id": "94ece300",
   "metadata": {},
   "outputs": [
    {
     "data": {
      "text/html": [
       "\n",
       "        <iframe\n",
       "            width=\"100%\"\n",
       "            height=\"700\"\n",
       "            src=\"/Users/m04m/Documents/GitHub/m04m/machine-learning/Untitled Folder/viz/index.html\"\n",
       "            frameborder=\"0\"\n",
       "            allowfullscreen\n",
       "            \n",
       "        ></iframe>\n",
       "        "
      ],
      "text/plain": [
       "<IPython.lib.display.IFrame at 0x7fc2a96402e0>"
      ]
     },
     "execution_count": 26,
     "metadata": {},
     "output_type": "execute_result"
    }
   ],
   "source": [
    "from IPython.display import IFrame\n",
    "IFrame(\"/Users/m04m/Documents/GitHub/m04m/machine-learning/Untitled Folder/viz/index.html\", \"100%\", 700)"
   ]
  },
  {
   "cell_type": "code",
   "execution_count": 27,
   "id": "b0092916",
   "metadata": {},
   "outputs": [
    {
     "data": {
      "text/plain": [
       "{\n",
       "    \"allweek\": {\n",
       "        \"allday\": {\n",
       "            \"callandtext\": {\n",
       "                \"mean\": 0.3244815064488733,\n",
       "                \"std\": 0.09659866096759165\n",
       "            }\n",
       "        }\n",
       "    }\n",
       "}"
      ]
     },
     "execution_count": 27,
     "metadata": {},
     "output_type": "execute_result"
    }
   ],
   "source": [
    "bc.individual.percent_initiated_conversations(U)"
   ]
  },
  {
   "cell_type": "code",
   "execution_count": 12,
   "id": "8564dec8",
   "metadata": {},
   "outputs": [
    {
     "data": {
      "text/plain": [
       "{\n",
       "    \"allweek\": {\n",
       "        \"allday\": {\n",
       "            \"mean\": 5.375,\n",
       "            \"std\": 1.8666480653835098\n",
       "        }\n",
       "    }\n",
       "}"
      ]
     },
     "execution_count": 12,
     "metadata": {},
     "output_type": "execute_result"
    }
   ],
   "source": [
    "bc.spatial.number_of_antennas(U)"
   ]
  },
  {
   "cell_type": "code",
   "execution_count": 13,
   "id": "823b78aa",
   "metadata": {},
   "outputs": [
    {
     "data": {
      "text/plain": [
       "{\n",
       "    \"allweek\": {\n",
       "        \"allday\": {\n",
       "            \"mean\": None,\n",
       "            \"std\": None\n",
       "        }\n",
       "    }\n",
       "}"
      ]
     },
     "execution_count": 13,
     "metadata": {},
     "output_type": "execute_result"
    }
   ],
   "source": [
    "bc.spatial.radius_of_gyration(U)"
   ]
  },
  {
   "cell_type": "code",
   "execution_count": 14,
   "id": "d6d7da71",
   "metadata": {},
   "outputs": [
    {
     "data": {
      "text/plain": [
       "{\n",
       "    \"allweek\": {\n",
       "        \"allday\": {\n",
       "            \"callandtext\": {\n",
       "                \"mean\": 5.5,\n",
       "                \"std\": 2.598076211353316\n",
       "            }\n",
       "        }\n",
       "    }\n",
       "}"
      ]
     },
     "execution_count": 14,
     "metadata": {},
     "output_type": "execute_result"
    }
   ],
   "source": [
    "bc.individual.active_days(U)"
   ]
  },
  {
   "cell_type": "code",
   "execution_count": 15,
   "id": "af4cee57",
   "metadata": {},
   "outputs": [
    {
     "data": {
      "text/plain": [
       "{\n",
       "    \"allweek\": {\n",
       "        \"allday\": {\n",
       "            \"callandtext\": {\n",
       "                \"mean\": 22.0,\n",
       "                \"std\": 8.0\n",
       "            }\n",
       "        }\n",
       "    }\n",
       "}"
      ]
     },
     "execution_count": 15,
     "metadata": {},
     "output_type": "execute_result"
    }
   ],
   "source": [
    "bc.individual.active_days(U, groupby='month')"
   ]
  },
  {
   "cell_type": "code",
   "execution_count": 16,
   "id": "d52e7b62",
   "metadata": {},
   "outputs": [
    {
     "data": {
      "text/plain": [
       "{\n",
       "    \"allweek\": {\n",
       "        \"allday\": {\n",
       "            \"callandtext\": 44\n",
       "        }\n",
       "    }\n",
       "}"
      ]
     },
     "execution_count": 16,
     "metadata": {},
     "output_type": "execute_result"
    }
   ],
   "source": [
    "bc.individual.active_days(U, groupby=None)"
   ]
  },
  {
   "cell_type": "code",
   "execution_count": 17,
   "id": "a11d29c4",
   "metadata": {},
   "outputs": [
    {
     "data": {
      "text/plain": [
       "{\n",
       "    \"allweek\": {\n",
       "        \"allday\": {\n",
       "            \"callandtext\": {\n",
       "                \"mean\": 5.5,\n",
       "                \"std\": 2.598076211353316\n",
       "            }\n",
       "        },\n",
       "        \"day\": {\n",
       "            \"callandtext\": {\n",
       "                \"mean\": 5.5,\n",
       "                \"std\": 2.598076211353316\n",
       "            }\n",
       "        },\n",
       "        \"night\": {\n",
       "            \"callandtext\": {\n",
       "                \"mean\": 5.375,\n",
       "                \"std\": 2.54644359843292\n",
       "            }\n",
       "        }\n",
       "    },\n",
       "    \"weekday\": {\n",
       "        \"allday\": {\n",
       "            \"callandtext\": {\n",
       "                \"mean\": 4.428571428571429,\n",
       "                \"std\": 1.3997084244475304\n",
       "            }\n",
       "        },\n",
       "        \"day\": {\n",
       "            \"callandtext\": {\n",
       "                \"mean\": 4.428571428571429,\n",
       "                \"std\": 1.3997084244475304\n",
       "            }\n",
       "        },\n",
       "        \"night\": {\n",
       "            \"callandtext\": {\n",
       "                \"mean\": 4.428571428571429,\n",
       "                \"std\": 1.3997084244475304\n",
       "            }\n",
       "        }\n",
       "    },\n",
       "    \"weekend\": {\n",
       "        \"allday\": {\n",
       "            \"callandtext\": {\n",
       "                \"mean\": 1.8571428571428572,\n",
       "                \"std\": 0.34992710611188266\n",
       "            }\n",
       "        },\n",
       "        \"day\": {\n",
       "            \"callandtext\": {\n",
       "                \"mean\": 1.8571428571428572,\n",
       "                \"std\": 0.34992710611188266\n",
       "            }\n",
       "        },\n",
       "        \"night\": {\n",
       "            \"callandtext\": {\n",
       "                \"mean\": 1.7142857142857142,\n",
       "                \"std\": 0.45175395145262565\n",
       "            }\n",
       "        }\n",
       "    }\n",
       "}"
      ]
     },
     "execution_count": 17,
     "metadata": {},
     "output_type": "execute_result"
    }
   ],
   "source": [
    "bc.individual.active_days(U, split_week=True, split_day=True)"
   ]
  },
  {
   "cell_type": "code",
   "execution_count": 18,
   "id": "0979630f",
   "metadata": {},
   "outputs": [],
   "source": [
    "features = bc.utils.all(U, groupby=None)"
   ]
  },
  {
   "cell_type": "code",
   "execution_count": 19,
   "id": "eccd1f5e",
   "metadata": {},
   "outputs": [
    {
     "data": {
      "text/plain": [
       "{\n",
       "    \"name\": \"ego\",\n",
       "    \"reporting\": {\n",
       "        \"antennas_path\": \"data/antennas.csv\",\n",
       "        \"attributes_path\": None,\n",
       "        \"recharges_path\": None,\n",
       "        \"version\": \"0.6.0\",\n",
       "        \"code_signature\": \"14bd4de76b8d90efdc2acb41e825b9a8914615ae\",\n",
       "        \"groupby\": None,\n",
       "        \"split_week\": false,\n",
       "        \"split_day\": false,\n",
       "        \"start_time\": \"2014-03-02 07:13:30\",\n",
       "        \"end_time\": \"2014-04-14 12:04:37\",\n",
       "        \"night_start\": \"19:00:00\",\n",
       "        \"night_end\": \"07:00:00\",\n",
       "        \"weekend\": [\n",
       "            6,\n",
       "            7\n",
       "        ],\n",
       "        \"number_of_records\": 314,\n",
       "        \"number_of_antennas\": 0,\n",
       "        \"number_of_recharges\": 0,\n",
       "        \"bins\": 1,\n",
       "        \"bins_with_data\": 1,\n",
       "        \"bins_without_data\": 0,\n",
       "        \"has_call\": true,\n",
       "        \"has_text\": true,\n",
       "        \"has_home\": true,\n",
       "        \"has_recharges\": false,\n",
       "        \"has_attributes\": false,\n",
       "        \"has_network\": false,\n",
       "        \"percent_records_missing_location\": 1.0,\n",
       "        \"antennas_missing_locations\": 10,\n",
       "        \"percent_outofnetwork_calls\": 0,\n",
       "        \"percent_outofnetwork_texts\": 0,\n",
       "        \"percent_outofnetwork_contacts\": 0,\n",
       "        \"percent_outofnetwork_call_durations\": 0,\n",
       "        \"ignored_records\": {\n",
       "            \"all\": 0,\n",
       "            \"interaction\": 0,\n",
       "            \"direction\": 0,\n",
       "            \"correspondent_id\": 0,\n",
       "            \"datetime\": 0,\n",
       "            \"call_duration\": 0,\n",
       "            \"location\": 0\n",
       "        }\n",
       "    },\n",
       "    \"active_days\": {\n",
       "        \"allweek\": {\n",
       "            \"allday\": {\n",
       "                \"callandtext\": 44\n",
       "            }\n",
       "        }\n",
       "    },\n",
       "    \"number_of_contacts\": {\n",
       "        \"allweek\": {\n",
       "            \"allday\": {\n",
       "                \"call\": 7,\n",
       "                \"text\": 7\n",
       "            }\n",
       "        }\n",
       "    },\n",
       "    \"call_duration\": {\n",
       "        \"allweek\": {\n",
       "            \"allday\": {\n",
       "                \"call\": {\n",
       "                    \"mean\": 3557.2933333333335,\n",
       "                    \"std\": 2067.863501448348\n",
       "                }\n",
       "            }\n",
       "        }\n",
       "    },\n",
       "    \"percent_nocturnal\": {\n",
       "        \"allweek\": {\n",
       "            \"allday\": {\n",
       "                \"call\": 0.4266666666666667,\n",
       "                \"text\": 0.4393305439330544\n",
       "            }\n",
       "        }\n",
       "    },\n",
       "    \"percent_initiated_conversations\": {\n",
       "        \"allweek\": {\n",
       "            \"allday\": {\n",
       "                \"callandtext\": 0.3080357142857143\n",
       "            }\n",
       "        }\n",
       "    },\n",
       "    \"percent_initiated_interactions\": {\n",
       "        \"allweek\": {\n",
       "            \"allday\": {\n",
       "                \"call\": 0.41333333333333333\n",
       "            }\n",
       "        }\n",
       "    },\n",
       "    \"response_delay_text\": {\n",
       "        \"allweek\": {\n",
       "            \"allday\": {\n",
       "                \"callandtext\": {\n",
       "                    \"mean\": 2310.0,\n",
       "                    \"std\": 747.5961476626268\n",
       "                }\n",
       "            }\n",
       "        }\n",
       "    },\n",
       "    \"response_rate_text\": {\n",
       "        \"allweek\": {\n",
       "            \"allday\": {\n",
       "                \"callandtext\": 0.025806451612903226\n",
       "            }\n",
       "        }\n",
       "    },\n",
       "    \"entropy_of_contacts\": {\n",
       "        \"allweek\": {\n",
       "            \"allday\": {\n",
       "                \"call\": 1.8626732085630935,\n",
       "                \"text\": 1.8462551114653172\n",
       "            }\n",
       "        }\n",
       "    },\n",
       "    \"balance_of_contacts\": {\n",
       "        \"allweek\": {\n",
       "            \"allday\": {\n",
       "                \"call\": {\n",
       "                    \"mean\": 0.05904761904761905,\n",
       "                    \"std\": 0.018662778992633737\n",
       "                },\n",
       "                \"text\": {\n",
       "                    \"mean\": 0.04363419007770473,\n",
       "                    \"std\": 0.01828697972597532\n",
       "                }\n",
       "            }\n",
       "        }\n",
       "    },\n",
       "    \"interactions_per_contact\": {\n",
       "        \"allweek\": {\n",
       "            \"allday\": {\n",
       "                \"call\": {\n",
       "                    \"mean\": 10.714285714285714,\n",
       "                    \"std\": 4.025429372458677\n",
       "                },\n",
       "                \"text\": {\n",
       "                    \"mean\": 34.142857142857146,\n",
       "                    \"std\": 15.027865274012724\n",
       "                }\n",
       "            }\n",
       "        }\n",
       "    },\n",
       "    \"interevent_time\": {\n",
       "        \"allweek\": {\n",
       "            \"allday\": {\n",
       "                \"call\": {\n",
       "                    \"mean\": 49024.86486486487,\n",
       "                    \"std\": 49455.92699110296\n",
       "                },\n",
       "                \"text\": {\n",
       "                    \"mean\": 15683.474789915967,\n",
       "                    \"std\": 16816.128561460955\n",
       "                }\n",
       "            }\n",
       "        }\n",
       "    },\n",
       "    \"percent_pareto_interactions\": {\n",
       "        \"allweek\": {\n",
       "            \"allday\": {\n",
       "                \"call\": 0.06666666666666667,\n",
       "                \"text\": 0.02092050209205021\n",
       "            }\n",
       "        }\n",
       "    },\n",
       "    \"percent_pareto_durations\": {\n",
       "        \"allweek\": {\n",
       "            \"allday\": {\n",
       "                \"call\": 0.06666666666666667\n",
       "            }\n",
       "        }\n",
       "    },\n",
       "    \"number_of_interactions\": {\n",
       "        \"allweek\": {\n",
       "            \"allday\": {\n",
       "                \"call\": 75,\n",
       "                \"text\": 239\n",
       "            }\n",
       "        }\n",
       "    },\n",
       "    \"number_of_interaction_in\": {\n",
       "        \"allweek\": {\n",
       "            \"allday\": {\n",
       "                \"call\": 44,\n",
       "                \"text\": 166\n",
       "            }\n",
       "        }\n",
       "    },\n",
       "    \"number_of_interaction_out\": {\n",
       "        \"allweek\": {\n",
       "            \"allday\": {\n",
       "                \"call\": 31,\n",
       "                \"text\": 73\n",
       "            }\n",
       "        }\n",
       "    },\n",
       "    \"number_of_antennas\": {\n",
       "        \"allweek\": {\n",
       "            \"allday\": 10\n",
       "        }\n",
       "    },\n",
       "    \"entropy_of_antennas\": {\n",
       "        \"allweek\": {\n",
       "            \"allday\": 1.5002835799997023\n",
       "        }\n",
       "    },\n",
       "    \"percent_at_home\": {\n",
       "        \"allweek\": {\n",
       "            \"allday\": 0.4738562091503268\n",
       "        }\n",
       "    },\n",
       "    \"radius_of_gyration\": {\n",
       "        \"allweek\": {\n",
       "            \"allday\": None\n",
       "        }\n",
       "    },\n",
       "    \"frequent_antennas\": {\n",
       "        \"allweek\": {\n",
       "            \"allday\": 3\n",
       "        }\n",
       "    },\n",
       "    \"churn_rate\": {\n",
       "        \"mean\": 0.07391866292877006,\n",
       "        \"std\": 0.05195576174609365\n",
       "    }\n",
       "}"
      ]
     },
     "execution_count": 19,
     "metadata": {},
     "output_type": "execute_result"
    }
   ],
   "source": [
    "features"
   ]
  },
  {
   "cell_type": "code",
   "execution_count": 20,
   "id": "892e6206",
   "metadata": {},
   "outputs": [
    {
     "name": "stdout",
     "output_type": "stream",
     "text": [
      "Successfully exported 1 object(s) to demo_export_user.csv\n",
      "Successfully exported 1 object(s) to demo_export_user.json\n"
     ]
    }
   ],
   "source": [
    "bc.to_csv(features, 'demo_export_user.csv')\n",
    "bc.to_json(features, 'demo_export_user.json')"
   ]
  },
  {
   "cell_type": "code",
   "execution_count": 21,
   "id": "756b5f7c",
   "metadata": {},
   "outputs": [
    {
     "name": "stdout",
     "output_type": "stream",
     "text": [
      "name,reporting__antennas_path,reporting__attributes_path,reporting__recharges_path,reporting__version,reporting__code_signature,reporting__groupby,reporting__split_week,reporting__split_day,reporting__start_time,reporting__end_time,reporting__night_start,reporting__night_end,reporting__weekend,reporting__number_of_records,reporting__number_of_antennas,reporting__number_of_recharges,reporting__bins,reporting__bins_with_data,reporting__bins_without_data,reporting__has_call,reporting__has_text,reporting__has_home,reporting__has_recharges,reporting__has_attributes,reporting__has_network,reporting__percent_records_missing_location,reporting__antennas_missing_locations,reporting__percent_outofnetwork_calls,reporting__percent_outofnetwork_texts,reporting__percent_outofnetwork_contacts,reporting__percent_outofnetwork_call_durations,reporting__ignored_records__all,reporting__ignored_records__interaction,reporting__ignored_records__direction,reporting__ignored_records__correspondent_id,reporting__ignored_records__datetime,reporting__ignored_records__call_duration,reporting__ignored_records__location,active_days__allweek__allday__callandtext,number_of_contacts__allweek__allday__call,number_of_contacts__allweek__allday__text,call_duration__allweek__allday__call__mean,call_duration__allweek__allday__call__std,percent_nocturnal__allweek__allday__call,percent_nocturnal__allweek__allday__text,percent_initiated_conversations__allweek__allday__callandtext,percent_initiated_interactions__allweek__allday__call,response_delay_text__allweek__allday__callandtext__mean,response_delay_text__allweek__allday__callandtext__std,response_rate_text__allweek__allday__callandtext,entropy_of_contacts__allweek__allday__call,entropy_of_contacts__allweek__allday__text,balance_of_contacts__allweek__allday__call__mean,balance_of_contacts__allweek__allday__call__std,balance_of_contacts__allweek__allday__text__mean,balance_of_contacts__allweek__allday__text__std,interactions_per_contact__allweek__allday__call__mean,interactions_per_contact__allweek__allday__call__std,interactions_per_contact__allweek__allday__text__mean,interactions_per_contact__allweek__allday__text__std,interevent_time__allweek__allday__call__mean,interevent_time__allweek__allday__call__std,interevent_time__allweek__allday__text__mean,interevent_time__allweek__allday__text__std,percent_pareto_interactions__allweek__allday__call,percent_pareto_interactions__allweek__allday__text,percent_pareto_durations__allweek__allday__call,number_of_interactions__allweek__allday__call,number_of_interactions__allweek__allday__text,number_of_interaction_in__allweek__allday__call,number_of_interaction_in__allweek__allday__text,number_of_interaction_out__allweek__allday__call,number_of_interaction_out__allweek__allday__text,number_of_antennas__allweek__allday,entropy_of_antennas__allweek__allday,percent_at_home__allweek__allday,radius_of_gyration__allweek__allday,frequent_antennas__allweek__allday,churn_rate__mean,churn_rate__std\r",
      "\r\n",
      "ego,data/antennas.csv,,,0.6.0,14bd4de76b8d90efdc2acb41e825b9a8914615ae,,False,False,2014-03-02 07:13:30,2014-04-14 12:04:37,19:00:00,07:00:00,\"[6, 7]\",314,0,0,1,1,0,True,True,True,False,False,False,1.0,10,0,0,0,0,0,0,0,0,0,0,0,44,7,7,3557.29333,2067.8635,0.42667,0.43933,0.30804,0.41333,2310.0,747.59615,0.02581,1.86267,1.84626,0.05905,0.01866,0.04363,0.01829,10.71429,4.02543,34.14286,15.02787,49024.86486,49455.92699,15683.47479,16816.12856,0.06667,0.02092,0.06667,75,239,44,166,31,73,10,1.50028,0.47386,,3,0.07392,0.05196\r",
      "\r\n"
     ]
    }
   ],
   "source": [
    "!head demo_export_user.csv"
   ]
  },
  {
   "cell_type": "code",
   "execution_count": 22,
   "id": "a5b0981b",
   "metadata": {},
   "outputs": [],
   "source": [
    "from bandicoot.helper.group import grouping\n",
    "\n",
    "@grouping(interaction='call')\n",
    "def shortest_call(records):\n",
    "    in_durations = (r.call_duration for r in records)\n",
    "    return min(in_durations)"
   ]
  },
  {
   "cell_type": "code",
   "execution_count": 23,
   "id": "54e3971e",
   "metadata": {},
   "outputs": [
    {
     "data": {
      "text/plain": [
       "{\n",
       "    \"allweek\": {\n",
       "        \"allday\": {\n",
       "            \"call\": {\n",
       "                \"mean\": 1330.857142857143,\n",
       "                \"std\": 2200.2680634459994\n",
       "            }\n",
       "        }\n",
       "    }\n",
       "}"
      ]
     },
     "execution_count": 23,
     "metadata": {},
     "output_type": "execute_result"
    }
   ],
   "source": [
    "shortest_call(U)"
   ]
  },
  {
   "cell_type": "code",
   "execution_count": null,
   "id": "26458fa8",
   "metadata": {},
   "outputs": [
    {
     "name": "stdout",
     "output_type": "stream",
     "text": [
      "Successfully exported the visualization to /var/folders/yt/740_nkw14z543nqdx6qbwyz40000gn/T/tmpw139s30h\n",
      "Serving bandicoot visualization at http://0.0.0.0:4242\n"
     ]
    },
    {
     "name": "stderr",
     "output_type": "stream",
     "text": [
      "127.0.0.1 - - [04/Oct/2022 22:36:39] \"GET / HTTP/1.1\" 200 -\n",
      "127.0.0.1 - - [04/Oct/2022 22:36:39] \"GET /build/main.css HTTP/1.1\" 200 -\n",
      "127.0.0.1 - - [04/Oct/2022 22:36:39] \"GET /build/app.js HTTP/1.1\" 200 -\n",
      "127.0.0.1 - - [04/Oct/2022 22:36:39] \"GET /data/bc_export.json HTTP/1.1\" 200 -\n",
      "127.0.0.1 - - [04/Oct/2022 22:36:39] \"GET /fonts/opensans-400.woff HTTP/1.1\" 200 -\n",
      "127.0.0.1 - - [04/Oct/2022 22:36:39] code 404, message File not found\n",
      "127.0.0.1 - - [04/Oct/2022 22:36:39] \"GET /favicon.ico HTTP/1.1\" 404 -\n"
     ]
    }
   ],
   "source": [
    "bc.visualization.run(U)"
   ]
  },
  {
   "cell_type": "code",
   "execution_count": null,
   "id": "aaec0ed9",
   "metadata": {},
   "outputs": [],
   "source": []
  }
 ],
 "metadata": {
  "kernelspec": {
   "display_name": "Python 3 (ipykernel)",
   "language": "python",
   "name": "python3"
  },
  "language_info": {
   "codemirror_mode": {
    "name": "ipython",
    "version": 3
   },
   "file_extension": ".py",
   "mimetype": "text/x-python",
   "name": "python",
   "nbconvert_exporter": "python",
   "pygments_lexer": "ipython3",
   "version": "3.9.12"
  }
 },
 "nbformat": 4,
 "nbformat_minor": 5
}
